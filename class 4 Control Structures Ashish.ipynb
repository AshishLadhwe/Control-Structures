{
 "cells": [
  {
   "cell_type": "code",
   "execution_count": null,
   "id": "d9b5cc5b",
   "metadata": {},
   "outputs": [],
   "source": [
    "## Control Flow Statements\n",
    "\n",
    "# If condition"
   ]
  },
  {
   "cell_type": "code",
   "execution_count": 2,
   "id": "751fce85",
   "metadata": {},
   "outputs": [
    {
     "name": "stdout",
     "output_type": "stream",
     "text": [
      "x is less than 100\n"
     ]
    }
   ],
   "source": [
    "x=10\n",
    "if x>=100:\n",
    "    print(\"x is greater than 100\")\n",
    "else:\n",
    "    print(\"x is less than 100\")"
   ]
  },
  {
   "cell_type": "code",
   "execution_count": 6,
   "id": "b1152977",
   "metadata": {},
   "outputs": [
    {
     "name": "stdout",
     "output_type": "stream",
     "text": [
      "x is positive integer\n"
     ]
    }
   ],
   "source": [
    "#Elif condition\n",
    "x=2\n",
    "if x>0:\n",
    "    print(\"x is positive integer\")\n",
    "elif x<0:\n",
    "    print(\"x is negative integer\")\n",
    "else:\n",
    "    print(\"x is zero\")"
   ]
  },
  {
   "cell_type": "code",
   "execution_count": 11,
   "id": "fe366b9b",
   "metadata": {},
   "outputs": [
    {
     "name": "stdout",
     "output_type": "stream",
     "text": [
      "x is an even number\n"
     ]
    }
   ],
   "source": [
    "x=10\n",
    "if x%2==0:\n",
    "    print(\"x is an even number\")\n",
    "else:\n",
    "    print(\"x is an odd number\")"
   ]
  },
  {
   "cell_type": "code",
   "execution_count": 21,
   "id": "c0ad786a",
   "metadata": {},
   "outputs": [
    {
     "name": "stdout",
     "output_type": "stream",
     "text": [
      "0\n",
      "1\n",
      "2\n",
      "3\n",
      "4\n",
      "5\n",
      "6\n"
     ]
    }
   ],
   "source": [
    "# For Loop\n",
    "x=[0,1,2,3,4,5,6]\n",
    "for i in x:\n",
    "    print(i)"
   ]
  },
  {
   "cell_type": "code",
   "execution_count": 23,
   "id": "3bb87c20",
   "metadata": {},
   "outputs": [
    {
     "name": "stdout",
     "output_type": "stream",
     "text": [
      "1 X 2 = 2\n",
      "2 X 2 = 4\n",
      "3 X 2 = 6\n",
      "4 X 2 = 8\n",
      "5 X 2 = 10\n",
      "6 X 2 = 12\n",
      "7 X 2 = 14\n",
      "8 X 2 = 16\n",
      "9 X 2 = 18\n",
      "10 X 2 = 20\n"
     ]
    }
   ],
   "source": [
    "# For Loop\n",
    "x=[1,2,3,4,5,6,7,8,9,10]\n",
    "for i in x:\n",
    "    print(i, \"X\", \"2\",\"=\", i*2)"
   ]
  },
  {
   "cell_type": "code",
   "execution_count": 1,
   "id": "43169218",
   "metadata": {},
   "outputs": [
    {
     "name": "stdout",
     "output_type": "stream",
     "text": [
      "1\n",
      "2\n",
      "3\n",
      "4\n",
      "5\n",
      "6\n",
      "7\n",
      "8\n",
      "9\n",
      "10\n"
     ]
    }
   ],
   "source": [
    "x=1\n",
    "while x<=10:\n",
    "    print(x)\n",
    "    \n",
    "    x=x+1"
   ]
  },
  {
   "cell_type": "code",
   "execution_count": 2,
   "id": "8a129e5e",
   "metadata": {},
   "outputs": [
    {
     "name": "stdout",
     "output_type": "stream",
     "text": [
      "1\n",
      "3\n",
      "5\n",
      "7\n",
      "9\n"
     ]
    }
   ],
   "source": [
    "x=1\n",
    "while x<=10:\n",
    "    if x%2!=0:\n",
    "        print(x)\n",
    "    x=x+1"
   ]
  },
  {
   "cell_type": "code",
   "execution_count": null,
   "id": "59c713d2",
   "metadata": {},
   "outputs": [],
   "source": [
    "##Control Statement\n"
   ]
  },
  {
   "cell_type": "code",
   "execution_count": 11,
   "id": "5d522d00",
   "metadata": {},
   "outputs": [
    {
     "name": "stdout",
     "output_type": "stream",
     "text": [
      "1\n",
      "2\n",
      "3\n",
      "4\n",
      "5\n"
     ]
    }
   ],
   "source": [
    "#Break\n",
    "x=[1,2,3,4,5,6,7,8,9,10]\n",
    "for i in x:\n",
    "    print(i)\n",
    "    if i==5:\n",
    "        break\n",
    "        print(\"this is break\")"
   ]
  },
  {
   "cell_type": "code",
   "execution_count": 27,
   "id": "12012044",
   "metadata": {},
   "outputs": [
    {
     "name": "stdout",
     "output_type": "stream",
     "text": [
      "1\n",
      "2\n",
      "3\n",
      "4\n",
      "6\n",
      "7\n",
      "8\n",
      "9\n",
      "10\n"
     ]
    }
   ],
   "source": [
    "\n",
    "x=[1,2,3,4,5,6,7,8,9,10]\n",
    "for i in x:\n",
    "    if i==5:\n",
    "        continue\n",
    "    print(i)"
   ]
  },
  {
   "cell_type": "code",
   "execution_count": 31,
   "id": "129ebfef",
   "metadata": {},
   "outputs": [],
   "source": [
    "#Pass\n",
    "def ashish():\n",
    "    pass"
   ]
  }
 ],
 "metadata": {
  "kernelspec": {
   "display_name": "Python 3 (ipykernel)",
   "language": "python",
   "name": "python3"
  },
  "language_info": {
   "codemirror_mode": {
    "name": "ipython",
    "version": 3
   },
   "file_extension": ".py",
   "mimetype": "text/x-python",
   "name": "python",
   "nbconvert_exporter": "python",
   "pygments_lexer": "ipython3",
   "version": "3.9.12"
  }
 },
 "nbformat": 4,
 "nbformat_minor": 5
}
